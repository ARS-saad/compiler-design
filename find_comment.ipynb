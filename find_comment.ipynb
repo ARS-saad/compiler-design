{
 "cells": [
  {
   "cell_type": "code",
   "execution_count": 1,
   "id": "d3c68908-a80e-4ce9-8aad-b9bf51a0ea9c",
   "metadata": {},
   "outputs": [],
   "source": [
    "string = '''\n",
    "    Hi there // This is single line comment\n",
    "    /*\n",
    "    This is multiple line comment\n",
    "    */\n",
    "    This is a string without comment\n",
    "'''\n",
    "with_out_comm = []"
   ]
  },
  {
   "cell_type": "code",
   "execution_count": 2,
   "id": "fb5ba7c6-d9f3-4b99-a9a1-599497aca9c1",
   "metadata": {},
   "outputs": [],
   "source": [
    "comment_remover = False\n",
    "multi_remover = False\n",
    "\n",
    "for index in range(len(string)):\n",
    "    if string[index] == '\\n' and multi_remover == False:\n",
    "        comment_remover = False\n",
    "    elif string[index] == '*' and string[index + 1] == '/' and comment_remover == True:\n",
    "        comment_remover = False\n",
    "        continue\n",
    "    elif comment_remover == False and multi_remover == True:\n",
    "        multi_remover = False\n",
    "        continue\n",
    "    elif comment_remover:\n",
    "        continue\n",
    "\n",
    "    if string[index] == '/' and string[index + 1] == '/':\n",
    "        comment_remover = True\n",
    "        continue\n",
    "\n",
    "    if string[index] == '/' and string[index + 1] == '*':\n",
    "        comment_remover = True\n",
    "        multi_remover = True\n",
    "        continue\n",
    "        \n",
    "    with_out_comm.append(string[index])"
   ]
  },
  {
   "cell_type": "markdown",
   "id": "47e8dd3f-4972-44cd-9bf7-d2325b12bf0b",
   "metadata": {},
   "source": [
    "# With out comment this string look like that"
   ]
  },
  {
   "cell_type": "code",
   "execution_count": 3,
   "id": "59936de6-9db1-402f-ad69-1244b38c6cf3",
   "metadata": {},
   "outputs": [
    {
     "name": "stdout",
     "output_type": "stream",
     "text": [
      "\n",
      "    Hi there \n",
      "    \n",
      "    This is a string without comment\n",
      "\n"
     ]
    }
   ],
   "source": [
    "with_out_comm = \"\".join(with_out_comm)\n",
    "print(with_out_comm)"
   ]
  }
 ],
 "metadata": {
  "kernelspec": {
   "display_name": "Python 3 (ipykernel)",
   "language": "python",
   "name": "python3"
  },
  "language_info": {
   "codemirror_mode": {
    "name": "ipython",
    "version": 3
   },
   "file_extension": ".py",
   "mimetype": "text/x-python",
   "name": "python",
   "nbconvert_exporter": "python",
   "pygments_lexer": "ipython3",
   "version": "3.12.2"
  }
 },
 "nbformat": 4,
 "nbformat_minor": 5
}
